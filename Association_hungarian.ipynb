{
  "nbformat": 4,
  "nbformat_minor": 0,
  "metadata": {
    "colab": {
      "name": "Association_hungarian.ipynb",
      "provenance": [],
      "collapsed_sections": [],
      "include_colab_link": true
    },
    "kernelspec": {
      "name": "python3",
      "display_name": "Python 3"
    }
  },
  "cells": [
    {
      "cell_type": "markdown",
      "metadata": {
        "id": "view-in-github",
        "colab_type": "text"
      },
      "source": [
        "<a href=\"https://colab.research.google.com/github/Jeremy26/3d-deep-learning/blob/main/Association_hungarian.ipynb\" target=\"_parent\"><img src=\"https://colab.research.google.com/assets/colab-badge.svg\" alt=\"Open In Colab\"/></a>"
      ]
    },
    {
      "cell_type": "markdown",
      "metadata": {
        "id": "Z-Zy5R377k8C"
      },
      "source": [
        "# Welcome to the Association Workshop\n",
        "You will learn how to associate bounding boxes using The Hungarian Algorithm\n"
      ]
    },
    {
      "cell_type": "markdown",
      "metadata": {
        "id": "ou2n2iHr1uoL"
      },
      "source": [
        "### Let's start with the problem we want to solve! We'll create two bounding boxes and try to associate them!"
      ]
    },
    {
      "cell_type": "code",
      "metadata": {
        "id": "lkFrXEr31UKq",
        "outputId": "3e076c7a-9442-46e7-ab6c-4910e9ab1f21",
        "colab": {
          "base_uri": "https://localhost:8080/"
        }
      },
      "source": [
        "import random\n",
        "from scipy.optimize import linear_sum_assignment\n",
        "import numpy as np\n",
        "\n",
        "# Detections at time 0\n",
        "A = [100, 120, 130, 330]\n",
        "B = [300, 350, 400, 400]\n",
        "C = [ 577, 138, 709, 244]\n",
        "\n",
        "# Detections at time 1\n",
        "D = [50, 400, 100, 550] # Should no frame\n",
        "E = [99, 120, 132, 333] # Should match frame A\n",
        "F = [302, 352, 406, 400] # Shold match frame B\n",
        "\n",
        "old = [A,B,C]\n",
        "new = [D,E,F]\n",
        "print(old)\n",
        "print(new)"
      ],
      "execution_count": null,
      "outputs": [
        {
          "output_type": "stream",
          "name": "stdout",
          "text": [
            "[[100, 120, 130, 330], [300, 350, 400, 400], [577, 138, 709, 244]]\n",
            "[[50, 400, 100, 550], [99, 120, 132, 333], [302, 352, 406, 400]]\n"
          ]
        }
      ]
    },
    {
      "cell_type": "markdown",
      "metadata": {
        "id": "Cc2PDuhJ2ZWI"
      },
      "source": [
        "### Since bounding box coordinates is all we have, we'll match using the IOU metric\n",
        "\n",
        "\n",
        "1. Create a matrix and store the IOU for all boxes\n",
        "2. Apply the Hungarian Algorithm\n",
        "3. Identify false positives and false negatives"
      ]
    },
    {
      "cell_type": "code",
      "metadata": {
        "id": "pX7yTGkG33g-"
      },
      "source": [
        "### HELPER IOU FUNCTION\n",
        "def box_iou(box1, box2):\n",
        "\txA = max(box1[0], box2[0])\n",
        "\tyA = max(box1[1], box2[1])\n",
        "\txB = min(box1[2], box2[2])\n",
        "\tyB = min(box1[3], box2[3])\n",
        "\tinter_area = max(0, xB - xA + 1) * max(0, yB - yA + 1) #abs((xi2 - xi1)*(yi2 - yi1))\n",
        "\t# Calculate the Union area by using Formula: Union(A,B) = A + B - Inter(A,B)\n",
        "\tbox1_area = (box1[2] - box1[0] + 1) * (box1[3] - box1[1] + 1) #abs((box1[3] - box1[1])*(box1[2]- box1[0]))\n",
        "\tbox2_area = (box2[2] - box2[0] + 1) * (box2[3] - box2[1] + 1) #abs((box2[3] - box2[1])*(box2[2]- box2[0]))\n",
        "\tunion_area = (box1_area + box2_area) - inter_area\n",
        "\t# compute the IoU\n",
        "\tiou = inter_area/float(union_area)\n",
        "\treturn iou"
      ],
      "execution_count": null,
      "outputs": []
    },
    {
      "cell_type": "code",
      "metadata": {
        "id": "yKt2hAcc1s5-",
        "outputId": "3bc332ae-04cf-4f1f-e799-8dfd364a7727",
        "colab": {
          "base_uri": "https://localhost:8080/"
        }
      },
      "source": [
        "# Go through old boxes and new boxes and compute an IOU to store in a matrix\n",
        "\n",
        "#TODO\n",
        "iou_matrix = np.zeros((len(old),len(new)),dtype=np.float32)\n",
        "\n",
        "for i,old_box in enumerate(old):\n",
        "\tfor j,new_box in enumerate(new):\n",
        "\t\tiou_matrix[i][j] = box_iou(old_box, new_box)\n",
        "\n",
        "print(iou_matrix)\n"
      ],
      "execution_count": null,
      "outputs": [
        {
          "output_type": "stream",
          "name": "stdout",
          "text": [
            "[[0.         0.89898294 0.        ]\n",
            " [0.         0.         0.8909091 ]\n",
            " [0.         0.         0.        ]]\n"
          ]
        }
      ]
    },
    {
      "cell_type": "code",
      "metadata": {
        "id": "TffZoXXc4LWU",
        "outputId": "dd086b49-6924-4bfd-d56a-ab27b13e367e",
        "colab": {
          "base_uri": "https://localhost:8080/"
        }
      },
      "source": [
        "# Go through the IOU matrix and replace positive values with 1\n",
        "# Always take the maximum value (if there are two positive values)\n",
        "# TODO\n",
        "for idx, iou in enumerate(iou_matrix):\n",
        "\tiou_matrix[idx] = [1 if (x==max(iou) and max(iou)>0) else 0 for x in iou]\n",
        "\n",
        "print(\"Match Matrix\")\n",
        "print(iou_matrix)"
      ],
      "execution_count": null,
      "outputs": [
        {
          "output_type": "stream",
          "name": "stdout",
          "text": [
            "Match Matrix\n",
            "[[0. 1. 0.]\n",
            " [0. 0. 1.]\n",
            " [0. 0. 0.]]\n"
          ]
        }
      ]
    },
    {
      "cell_type": "code",
      "metadata": {
        "id": "wPDGZWny4mYf",
        "outputId": "23778688-7e2b-477f-b331-9cd8e8d1b337",
        "colab": {
          "base_uri": "https://localhost:8080/"
        }
      },
      "source": [
        "# Call the Linear Assignment Method (Hungarian Algorithm)\n",
        "hungarian_row, hungarian_col = linear_sum_assignment(-iou_matrix)\n",
        "print(\"Hungarian Matrix\")\n",
        "print(hungarian_row)\n",
        "print(hungarian_col)"
      ],
      "execution_count": null,
      "outputs": [
        {
          "output_type": "stream",
          "name": "stdout",
          "text": [
            "Hungarian Matrix\n",
            "[0 1 2]\n",
            "[1 2 0]\n"
          ]
        }
      ]
    },
    {
      "cell_type": "code",
      "metadata": {
        "id": "3ldjPnM24kaH"
      },
      "source": [
        "# Declate a list for matches, unmatched detections, and unmatched trackings\n",
        "matches = []\n",
        "unmatched_trackers, unmatched_detections = [], []"
      ],
      "execution_count": null,
      "outputs": []
    },
    {
      "cell_type": "code",
      "metadata": {
        "id": "HyfnplL6jwbc",
        "outputId": "5cde8ad2-0797-47b5-984c-9a9313397247",
        "colab": {
          "base_uri": "https://localhost:8080/"
        }
      },
      "source": [
        "# Just a reshape of the hungarian matrix to have it properly\n",
        "hungarian = np.array(list(zip(hungarian_row, hungarian_col)))\n",
        "print(hungarian)"
      ],
      "execution_count": null,
      "outputs": [
        {
          "output_type": "stream",
          "name": "stdout",
          "text": [
            "[[0 1]\n",
            " [1 2]\n",
            " [2 0]]\n"
          ]
        }
      ]
    },
    {
      "cell_type": "code",
      "metadata": {
        "id": "wjvUvqYFjoXP",
        "outputId": "9cbdef9f-8441-4906-a1c5-09be7832ee2a",
        "colab": {
          "base_uri": "https://localhost:8080/"
        }
      },
      "source": [
        "for h in hungarian:\n",
        "    if(iou_matrix[h[0],h[1]]<0.3):\n",
        "        unmatched_trackers.append(old[h[0]])\n",
        "        unmatched_detections.append(new[h[1]])\n",
        "    else:\n",
        "        matches.append(h.reshape(1,2))\n",
        "    \n",
        "if(len(matches)==0):\n",
        "\tmatches = np.empty((0,2),dtype=int)\n",
        "else:\n",
        "\tmatches = np.concatenate(matches,axis=0)\n",
        "\n",
        "print(\"Matches \")\n",
        "print( matches)\n",
        "print(\"Unmatched det\")\n",
        "print(unmatched_detections)\n",
        "print(\"Unmatched Trackers\")\n",
        "print(unmatched_trackers)"
      ],
      "execution_count": null,
      "outputs": [
        {
          "output_type": "stream",
          "name": "stdout",
          "text": [
            "Matches \n",
            "[[0 1]\n",
            " [1 2]]\n",
            "Unmatched det\n",
            "[[50, 400, 100, 550]]\n",
            "Unmatched Trackers\n",
            "[[577, 138, 709, 244]]\n"
          ]
        }
      ]
    },
    {
      "cell_type": "code",
      "metadata": {
        "id": "nmOt7EiqkXCg"
      },
      "source": [
        "for t,trk in enumerate(old):\n",
        "\tif(t not in hungarian[:,0]):\n",
        "\t\tunmatched_trackers.append(trk)\n",
        "\n",
        "for d, det in enumerate(new):\n",
        "\tif(d not in hungarian[:,1]):\n",
        "    \t\tunmatched_detections.append(det)"
      ],
      "execution_count": null,
      "outputs": []
    },
    {
      "cell_type": "code",
      "metadata": {
        "id": "iF9OwM975ck-",
        "outputId": "468fd7bd-cdcc-4bb0-813b-b9643036fbf1",
        "colab": {
          "base_uri": "https://localhost:8080/"
        }
      },
      "source": [
        "# Now, we want to display the matched bounding boxes\n",
        "display_match = []\n",
        "for matching in matches:\n",
        "    display_match.append((new[matching[1]],old[matching[0]]))\n",
        "\n",
        "print(\"Matched Detections\")\n",
        "print(display_match)\n",
        "print(\"Unmatched Detections \")\n",
        "print(np.array(unmatched_detections))\n",
        "print(\"Unmatched trackers \")\n",
        "print(np.array(unmatched_trackers))       "
      ],
      "execution_count": null,
      "outputs": [
        {
          "output_type": "stream",
          "name": "stdout",
          "text": [
            "Matched Detections\n",
            "[([99, 120, 132, 333], [100, 120, 130, 330]), ([302, 352, 406, 400], [300, 350, 400, 400])]\n",
            "Unmatched Detections \n",
            "[[ 50 400 100 550]]\n",
            "Unmatched trackers \n",
            "[[577 138 709 244]]\n"
          ]
        }
      ]
    },
    {
      "cell_type": "code",
      "metadata": {
        "id": "qHURprhBuyNE"
      },
      "source": [
        ""
      ],
      "execution_count": null,
      "outputs": []
    }
  ]
}